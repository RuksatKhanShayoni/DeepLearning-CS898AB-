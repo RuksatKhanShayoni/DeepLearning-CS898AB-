{
  "cells": [
    {
      "cell_type": "markdown",
      "metadata": {
        "id": "view-in-github",
        "colab_type": "text"
      },
      "source": [
        "<a href=\"https://colab.research.google.com/github/RuksatKhanShayoni/DeepLearning-CS898AB-/blob/Assignment4-Ques1-RNN_EnglishtoFrench/Assignment_4_Ques1.ipynb\" target=\"_parent\"><img src=\"https://colab.research.google.com/assets/colab-badge.svg\" alt=\"Open In Colab\"/></a>"
      ]
    },
    {
      "cell_type": "markdown",
      "id": "6e0a3f17-dbde-461c-84c6-ce474103ee6a",
      "metadata": {
        "id": "6e0a3f17-dbde-461c-84c6-ce474103ee6a"
      },
      "source": [
        "## The code is borrowed from the following link\n",
        "- [Original Code](https://github.com/zahangircse/COMP_EECE_7or8740_NNs/blob/main/Assignment_4_ref_codes.ipynb)"
      ]
    },
    {
      "cell_type": "markdown",
      "id": "667f7ba2-12f9-4c78-92fe-56afcb82f59b",
      "metadata": {
        "id": "667f7ba2-12f9-4c78-92fe-56afcb82f59b"
      },
      "source": [
        "## Introduction\n",
        "In this notebook, you will build a deep neural network that functions as part of an end-to-end machine translation pipeline. Your completed pipeline will accept English text as input and return the French translation.\n",
        "\n",
        "- **Preprocess** - You'll convert text to sequence of integers.\n",
        "- **Models** Create models which accepts a sequence of integers as input and returns a probability distribution over possible translations. After learning about the basic types of neural networks that are often used for machine translation, you will engage in your own investigations, to design your own model!\n",
        "- **Prediction** Run the model on English text."
      ]
    },
    {
      "cell_type": "code",
      "execution_count": 1,
      "id": "74cf1b80-73b2-4f8f-a751-95220ae500db",
      "metadata": {
        "id": "74cf1b80-73b2-4f8f-a751-95220ae500db"
      },
      "outputs": [],
      "source": [
        "import collections\n",
        "import numpy as np\n",
        "\n",
        "from tensorflow.keras.preprocessing.text import Tokenizer\n",
        "from tensorflow.keras.preprocessing.sequence import pad_sequences\n",
        "from tensorflow.keras.models import Model, Sequential\n",
        "from tensorflow.keras.layers import GRU, Input, Dense, TimeDistributed, Activation, RepeatVector, Bidirectional, Dropout, LSTM\n",
        "from tensorflow.keras.layers import Embedding\n",
        "from tensorflow.keras.optimizers import Adam\n",
        "from tensorflow.keras.losses import sparse_categorical_crossentropy"
      ]
    },
    {
      "cell_type": "markdown",
      "id": "265869c8-361f-4301-bd9e-3bf66df85501",
      "metadata": {
        "id": "265869c8-361f-4301-bd9e-3bf66df85501"
      },
      "source": [
        "## Dataset\n",
        "We begin by investigating the dataset that will be used to train and evaluate your pipeline.  The most common datasets used for machine translation are from [WMT](http://www.statmt.org/).  However, that will take a long time to train a neural network on.  We'll be using a dataset we created for this project that contains a small vocabulary.  You'll be able to train your model in a reasonable time with this dataset.\n",
        "### Dataset\n",
        "The dataset is located at **data** folder. The \\\"small_vocab_en\\\" contains English senteces and the \"small_vocab_fr\" contains the corresponding French translation."
      ]
    },
    {
      "cell_type": "code",
      "execution_count": 2,
      "id": "04c6b02f-fc11-4517-9a30-c50183b317dc",
      "metadata": {
        "id": "04c6b02f-fc11-4517-9a30-c50183b317dc"
      },
      "outputs": [],
      "source": [
        "import os\n",
        "def load_data(path):\n",
        "    data_file = os.path.join(path)\n",
        "    with open(data_file,\"r\") as f:\n",
        "        lang_data = f.read()\n",
        "    return lang_data.split('\\n')\n"
      ]
    },
    {
      "cell_type": "code",
      "execution_count": 3,
      "id": "79422742-2fb9-4df4-afed-39b986b348a7",
      "metadata": {
        "colab": {
          "base_uri": "https://localhost:8080/"
        },
        "id": "79422742-2fb9-4df4-afed-39b986b348a7",
        "outputId": "19e238af-1dc1-4ceb-b896-a94f0cc62013"
      },
      "outputs": [
        {
          "output_type": "stream",
          "name": "stdout",
          "text": [
            "Dataset Loaded\n"
          ]
        }
      ],
      "source": [
        "# Load English data\n",
        "english_sentences = load_data('small_vocab_en.txt')\n",
        "# Load French data\n",
        "french_sentences = load_data('small_vocab_fr.txt')\n",
        "print('Dataset Loaded')"
      ]
    },
    {
      "cell_type": "markdown",
      "id": "a760ec6b-b664-4ca7-af45-09d13f4823ce",
      "metadata": {
        "id": "a760ec6b-b664-4ca7-af45-09d13f4823ce"
      },
      "source": [
        "### Visualize data\n",
        "Each line in small_vocab_en contains an English sentence with the respective translation in each line of small_vocab_fr. View the first two lines from each file."
      ]
    },
    {
      "cell_type": "code",
      "execution_count": 7,
      "id": "2c122b26-2464-4898-9118-fb17b9eee58e",
      "metadata": {
        "colab": {
          "base_uri": "https://localhost:8080/"
        },
        "id": "2c122b26-2464-4898-9118-fb17b9eee58e",
        "outputId": "e4d83ce6-d468-4d41-bb84-66d9e6c0e92f"
      },
      "outputs": [
        {
          "output_type": "stream",
          "name": "stdout",
          "text": [
            "small_vocab_en Line 1:  new jersey is sometimes quiet during autumn , and it is snowy in april .\n",
            "small_vocab_fr Line 1:  new jersey est parfois calme pendant l' automne , et il est neigeux en avril .\n",
            "small_vocab_en Line 2:  the united states is usually chilly during july , and it is usually freezing in november .\n",
            "small_vocab_fr Line 2:  les états-unis est généralement froid en juillet , et il gèle habituellement en novembre .\n"
          ]
        }
      ],
      "source": [
        "for sample_i in range(2):\n",
        "    print('small_vocab_en Line {}:  {}'.format(sample_i + 1, english_sentences[sample_i]))\n",
        "    print('small_vocab_fr Line {}:  {}'.format(sample_i + 1, french_sentences[sample_i]))"
      ]
    },
    {
      "cell_type": "markdown",
      "id": "4740501e-7d3c-4df1-a949-c5e74ff1bdbf",
      "metadata": {
        "id": "4740501e-7d3c-4df1-a949-c5e74ff1bdbf"
      },
      "source": [
        "### Vocabulary\n",
        "The complexity of the problem is determined by the complexity of the vocabulary. A more complex vocabulary is a more complex problem. Let's look at the complexity of the dataset we'll be working with."
      ]
    },
    {
      "cell_type": "code",
      "execution_count": 8,
      "id": "00ca320a-1975-4cfb-8a80-78818f89830b",
      "metadata": {
        "colab": {
          "base_uri": "https://localhost:8080/"
        },
        "id": "00ca320a-1975-4cfb-8a80-78818f89830b",
        "outputId": "74ed4a69-dc3c-4e57-9010-a7b89debf7f0"
      },
      "outputs": [
        {
          "output_type": "stream",
          "name": "stdout",
          "text": [
            "1823250 English words.\n",
            "227 unique English words.\n",
            "10 Most common words in the English dataset:\n",
            "\"is\" \",\" \".\" \"in\" \"it\" \"during\" \"the\" \"but\" \"and\" \"sometimes\"\n",
            "\n",
            "1961295 French words.\n",
            "355 unique French words.\n",
            "10 Most common words in the French dataset:\n",
            "\"est\" \".\" \",\" \"en\" \"il\" \"les\" \"mais\" \"et\" \"la\" \"parfois\"\n"
          ]
        }
      ],
      "source": [
        "english_words_counter = collections.Counter([word for sentence in english_sentences for word in sentence.split()])\n",
        "french_words_counter = collections.Counter([word for sentence in french_sentences for word in sentence.split()])\n",
        "\n",
        "print('{} English words.'.format(len([word for sentence in english_sentences for word in sentence.split()])))\n",
        "print('{} unique English words.'.format(len(english_words_counter)))\n",
        "print('10 Most common words in the English dataset:')\n",
        "print('\"' + '\" \"'.join(list(zip(*english_words_counter.most_common(10)))[0]) + '\"')\n",
        "print()\n",
        "print('{} French words.'.format(len([word for sentence in french_sentences for word in sentence.split()])))\n",
        "print('{} unique French words.'.format(len(french_words_counter)))\n",
        "print('10 Most common words in the French dataset:')\n",
        "print('\"' + '\" \"'.join(list(zip(*french_words_counter.most_common(10)))[0]) + '\"')"
      ]
    },
    {
      "cell_type": "markdown",
      "id": "53168976-1729-475c-9877-ec634e531fc4",
      "metadata": {
        "id": "53168976-1729-475c-9877-ec634e531fc4"
      },
      "source": [
        "## Preprocess\n",
        "For this project, you won't use text data as input to your model. Instead, you'll convert the text into sequences of integers using the following preprocess methods:\n",
        "\n",
        "Tokenize the words into ids\n",
        "Add padding to make all the sequences the same length.\n",
        "Time to start preprocessing the data...\n",
        "\n",
        "#### Tokenize (IMPLEMENTATION)\n",
        "For a neural network to predict on text data, it first has to be turned into data it can understand. Text data like \"dog\" is a sequence of ASCII character encodings. Since a neural network is a series of multiplication and addition operations, the input data needs to be number(s).\n",
        "\n",
        "We can turn each character into a number or each word into a number. These are called character and word ids, respectively. Character ids are used for character level models that generate text predictions for each character. A word level model uses word ids that generate text predictions for each word. Word level models tend to learn better, since they are lower in complexity, so we'll use those.\n",
        "\n",
        "Turn each sentence into a sequence of words ids using Keras's Tokenizer function. Use this function to tokenize english_sentences and french_sentences in the cell below.\n",
        "\n",
        "Running the cell will run tokenize on sample data and show output for debugging."
      ]
    },
    {
      "cell_type": "code",
      "execution_count": 9,
      "id": "ee5f9332-e6e6-4852-919a-931ea99c418e",
      "metadata": {
        "colab": {
          "base_uri": "https://localhost:8080/"
        },
        "id": "ee5f9332-e6e6-4852-919a-931ea99c418e",
        "outputId": "dafe1238-0ac9-4b4f-e546-7b8bf655c792"
      },
      "outputs": [
        {
          "output_type": "stream",
          "name": "stdout",
          "text": [
            "{'the': 1, 'quick': 2, 'a': 3, 'brown': 4, 'fox': 5, 'jumps': 6, 'over': 7, 'lazy': 8, 'dog': 9, 'by': 10, 'jove': 11, 'my': 12, 'study': 13, 'of': 14, 'lexicography': 15, 'won': 16, 'prize': 17, 'this': 18, 'is': 19, 'short': 20, 'sentence': 21}\n",
            "\n",
            "Sequence 1 in x\n",
            "  Input:  The quick brown fox jumps over the lazy dog .\n",
            "  Output: [1, 2, 4, 5, 6, 7, 1, 8, 9]\n",
            "Sequence 2 in x\n",
            "  Input:  By Jove , my quick study of lexicography won a prize .\n",
            "  Output: [10, 11, 12, 2, 13, 14, 15, 16, 3, 17]\n",
            "Sequence 3 in x\n",
            "  Input:  This is a short sentence .\n",
            "  Output: [18, 19, 3, 20, 21]\n"
          ]
        }
      ],
      "source": [
        "def tokenize(x):\n",
        "    \"\"\"\n",
        "    Tokenize x\n",
        "    :param x: List of sentences/strings to be tokenized\n",
        "    :return: Tuple of (tokenized x data, tokenizer used to tokenize x)\n",
        "    \"\"\"\n",
        "    # TODO: Implement\n",
        "    x_tk = Tokenizer(char_level = False)\n",
        "    x_tk.fit_on_texts(x)\n",
        "    return x_tk.texts_to_sequences(x), x_tk\n",
        "\n",
        "# Tokenize Example output\n",
        "text_sentences = [\n",
        "    'The quick brown fox jumps over the lazy dog .',\n",
        "    'By Jove , my quick study of lexicography won a prize .',\n",
        "    'This is a short sentence .']\n",
        "text_tokenized, text_tokenizer = tokenize(text_sentences)\n",
        "print(text_tokenizer.word_index)\n",
        "print()\n",
        "for sample_i, (sent, token_sent) in enumerate(zip(text_sentences, text_tokenized)):\n",
        "    print('Sequence {} in x'.format(sample_i + 1))\n",
        "    print('  Input:  {}'.format(sent))\n",
        "    print('  Output: {}'.format(token_sent))"
      ]
    },
    {
      "cell_type": "markdown",
      "id": "dd171819-7d23-4a07-b536-67e71f8db3b3",
      "metadata": {
        "id": "dd171819-7d23-4a07-b536-67e71f8db3b3"
      },
      "source": [
        "### Padding (IMPLEMENTATION)  \n",
        "When batching the sequence of word ids together, each sequence needs to be the same length. Since sentences are dynamic in length, we can add padding to the end of the sequences to make them the same length.\n",
        "\n",
        "Make sure all the English sequences have the same length and all the French sequences have the same length by adding padding to the end of each sequence using Keras's pad_sequences function."
      ]
    },
    {
      "cell_type": "code",
      "execution_count": 10,
      "id": "c89075cc-7868-411b-9636-c3691a333ddc",
      "metadata": {
        "colab": {
          "base_uri": "https://localhost:8080/"
        },
        "id": "c89075cc-7868-411b-9636-c3691a333ddc",
        "outputId": "9f26e554-398f-43fe-fc45-3c72e5c88fc3"
      },
      "outputs": [
        {
          "output_type": "stream",
          "name": "stdout",
          "text": [
            "Sequence 1 in x\n",
            "  Input:  [1 2 4 5 6 7 1 8 9]\n",
            "  Output: [1 2 4 5 6 7 1 8 9 0]\n",
            "Sequence 2 in x\n",
            "  Input:  [10 11 12  2 13 14 15 16  3 17]\n",
            "  Output: [10 11 12  2 13 14 15 16  3 17]\n",
            "Sequence 3 in x\n",
            "  Input:  [18 19  3 20 21]\n",
            "  Output: [18 19  3 20 21  0  0  0  0  0]\n"
          ]
        }
      ],
      "source": [
        "def pad(x, length=None):\n",
        "    \"\"\"\n",
        "    Pad x\n",
        "    :param x: List of sequences.\n",
        "    :param length: Length to pad the sequence to.  If None, use length of longest sequence in x.\n",
        "    :return: Padded numpy array of sequences\n",
        "    \"\"\"\n",
        "    # TODO: Implement\n",
        "    if length is None:\n",
        "        length = max([len(sentence) for sentence in x])\n",
        "    return pad_sequences(x, maxlen = length, padding = 'post')\n",
        "\n",
        "#tests.test_pad(pad)\n",
        "\n",
        "# Pad Tokenized output\n",
        "test_pad = pad(text_tokenized)\n",
        "for sample_i, (token_sent, pad_sent) in enumerate(zip(text_tokenized, test_pad)):\n",
        "    print('Sequence {} in x'.format(sample_i + 1))\n",
        "    print('  Input:  {}'.format(np.array(token_sent)))\n",
        "    print('  Output: {}'.format(pad_sent))"
      ]
    },
    {
      "cell_type": "markdown",
      "id": "3fef8491-3bcc-4022-9603-67a9ef94efe9",
      "metadata": {
        "id": "3fef8491-3bcc-4022-9603-67a9ef94efe9"
      },
      "source": [
        "### Preprocess Pipeline\n",
        "Your focus for this project is to build neural network architecture, so we won't ask you to create a preprocess pipeline. Instead, we've provided you with the implementation of the preprocess function."
      ]
    },
    {
      "cell_type": "code",
      "execution_count": 11,
      "id": "a9cdfbf7-5539-42fd-9ab2-5290363df6c8",
      "metadata": {
        "colab": {
          "base_uri": "https://localhost:8080/"
        },
        "id": "a9cdfbf7-5539-42fd-9ab2-5290363df6c8",
        "outputId": "dfac01a1-2c1a-4f5b-f5ae-0f94aec0457b"
      },
      "outputs": [
        {
          "output_type": "stream",
          "name": "stdout",
          "text": [
            "Data Preprocessed\n",
            "Max English sentence length: 15\n",
            "Max French sentence length: 21\n",
            "English vocabulary size: 199\n",
            "French vocabulary size: 345\n"
          ]
        }
      ],
      "source": [
        "def preprocess(x, y):\n",
        "    \"\"\"\n",
        "    Preprocess x and y\n",
        "    :param x: Feature List of sentences\n",
        "    :param y: Label List of sentences\n",
        "    :return: Tuple of (Preprocessed x, Preprocessed y, x tokenizer, y tokenizer)\n",
        "    \"\"\"\n",
        "    preprocess_x, x_tk = tokenize(x)\n",
        "    preprocess_y, y_tk = tokenize(y)\n",
        "\n",
        "    preprocess_x = pad(preprocess_x)\n",
        "    preprocess_y = pad(preprocess_y)\n",
        "\n",
        "    # Keras's sparse_categorical_crossentropy function requires the labels to be in 3 dimensions\n",
        "    preprocess_y = preprocess_y.reshape(*preprocess_y.shape, 1)\n",
        "\n",
        "    return preprocess_x, preprocess_y, x_tk, y_tk\n",
        "\n",
        "preproc_english_sentences, preproc_french_sentences, english_tokenizer, french_tokenizer =\\\n",
        "    preprocess(english_sentences, french_sentences)\n",
        "\n",
        "max_english_sequence_length = preproc_english_sentences.shape[1]\n",
        "max_french_sequence_length = preproc_french_sentences.shape[1]\n",
        "english_vocab_size = len(english_tokenizer.word_index)\n",
        "french_vocab_size = len(french_tokenizer.word_index)+1\n",
        "\n",
        "print('Data Preprocessed')\n",
        "print(\"Max English sentence length:\", max_english_sequence_length)\n",
        "print(\"Max French sentence length:\", max_french_sequence_length)\n",
        "print(\"English vocabulary size:\", english_vocab_size)\n",
        "print(\"French vocabulary size:\", french_vocab_size)"
      ]
    },
    {
      "cell_type": "markdown",
      "id": "83661d09-330c-477a-9d2d-5a735d031dff",
      "metadata": {
        "id": "83661d09-330c-477a-9d2d-5a735d031dff"
      },
      "source": [
        "### Ids Back to Text\n",
        "The neural network will be translating the input to words ids, which isn't the final form we want. We want the French translation. The function logits_to_text will bridge the gab between the logits from the neural network to the French translation. You'll be using this function to better understand the output of the neural network."
      ]
    },
    {
      "cell_type": "code",
      "execution_count": 12,
      "id": "fffb5db9-ac30-4858-b56d-62761ddefd88",
      "metadata": {
        "colab": {
          "base_uri": "https://localhost:8080/"
        },
        "id": "fffb5db9-ac30-4858-b56d-62761ddefd88",
        "outputId": "5716f5c4-d899-4abe-fe47-3490faa8699d"
      },
      "outputs": [
        {
          "output_type": "stream",
          "name": "stdout",
          "text": [
            "`logits_to_text` function loaded.\n"
          ]
        }
      ],
      "source": [
        "def logits_to_text(logits, tokenizer):\n",
        "    \"\"\"\n",
        "    Turn logits from a neural network into text using the tokenizer\n",
        "    :param logits: Logits from a neural network\n",
        "    :param tokenizer: Keras Tokenizer fit on the labels\n",
        "    :return: String that represents the text of the logits\n",
        "    \"\"\"\n",
        "    index_to_words = {id: word for word, id in tokenizer.word_index.items()}\n",
        "    index_to_words[0] = '<PAD>'\n",
        "\n",
        "    return ' '.join([index_to_words[prediction] for prediction in np.argmax(logits, 1)])\n",
        "\n",
        "print('`logits_to_text` function loaded.')"
      ]
    },
    {
      "cell_type": "code",
      "execution_count": 13,
      "id": "a516bbb3-ac68-412a-bd20-c7aa7d575871",
      "metadata": {
        "colab": {
          "base_uri": "https://localhost:8080/"
        },
        "id": "a516bbb3-ac68-412a-bd20-c7aa7d575871",
        "outputId": "f475cab0-ac05-4656-f518-669b119b85ec"
      },
      "outputs": [
        {
          "output_type": "stream",
          "name": "stdout",
          "text": [
            "(21, 1)\n"
          ]
        }
      ],
      "source": [
        "def simple_model(input_shape, output_sequence_length, english_vocab_size, french_vocab_size):\n",
        "    \"\"\"\n",
        "    Build and train a basic RNN on x and y\n",
        "    :param input_shape: Tuple of input shape\n",
        "    :param output_sequence_length: Length of output sequence\n",
        "    :param english_vocab_size: Number of unique English words in the dataset\n",
        "    :param french_vocab_size: Number of unique French words in the dataset\n",
        "    :return: Keras model built, but not trained\n",
        "    \"\"\"\n",
        "    # TODO: Build the layers\n",
        "    learning_rate = 1e-3\n",
        "    input_seq = Input(input_shape[1:])\n",
        "    rnn = GRU(64, return_sequences = True)(input_seq)\n",
        "    logits = TimeDistributed(Dense(french_vocab_size))(rnn)\n",
        "    model = Model(input_seq, Activation('softmax')(logits))\n",
        "    model.compile(loss = sparse_categorical_crossentropy,\n",
        "                 optimizer = Adam(learning_rate),\n",
        "                 metrics = ['accuracy'])\n",
        "\n",
        "    return model\n",
        "\n",
        "\n",
        "#tests.test_simple_model(simple_model)\n",
        "\n",
        "# Reshaping the input to work with a basic RNN\n",
        "tmp_x = pad(preproc_english_sentences, max_french_sequence_length)\n",
        "tmp_x = tmp_x.reshape((-1, preproc_french_sentences.shape[-2], 1))\n",
        "print(tmp_x.shape[1:])"
      ]
    },
    {
      "cell_type": "code",
      "execution_count": 14,
      "id": "448e9cf5-f96f-4b34-a5b3-77ed0ada5cf6",
      "metadata": {
        "colab": {
          "base_uri": "https://localhost:8080/",
          "height": 660
        },
        "id": "448e9cf5-f96f-4b34-a5b3-77ed0ada5cf6",
        "outputId": "68ff4dc0-b023-41fc-bc45-6000e546bb7f"
      },
      "outputs": [
        {
          "data": {
            "text/html": [
              "<pre style=\"white-space:pre;overflow-x:auto;line-height:normal;font-family:Menlo,'DejaVu Sans Mono',consolas,'Courier New',monospace\"><span style=\"font-weight: bold\">Model: \"functional\"</span>\n",
              "</pre>\n"
            ],
            "text/plain": [
              "\u001b[1mModel: \"functional\"\u001b[0m\n"
            ]
          },
          "metadata": {},
          "output_type": "display_data"
        },
        {
          "data": {
            "text/html": [
              "<pre style=\"white-space:pre;overflow-x:auto;line-height:normal;font-family:Menlo,'DejaVu Sans Mono',consolas,'Courier New',monospace\">┏━━━━━━━━━━━━━━━━━━━━━━━━━━━━━━━━━━━━━━┳━━━━━━━━━━━━━━━━━━━━━━━━━━━━━┳━━━━━━━━━━━━━━━━━┓\n",
              "┃<span style=\"font-weight: bold\"> Layer (type)                         </span>┃<span style=\"font-weight: bold\"> Output Shape                </span>┃<span style=\"font-weight: bold\">         Param # </span>┃\n",
              "┡━━━━━━━━━━━━━━━━━━━━━━━━━━━━━━━━━━━━━━╇━━━━━━━━━━━━━━━━━━━━━━━━━━━━━╇━━━━━━━━━━━━━━━━━┩\n",
              "│ input_layer (<span style=\"color: #0087ff; text-decoration-color: #0087ff\">InputLayer</span>)             │ (<span style=\"color: #00d7ff; text-decoration-color: #00d7ff\">None</span>, <span style=\"color: #00af00; text-decoration-color: #00af00\">21</span>, <span style=\"color: #00af00; text-decoration-color: #00af00\">1</span>)               │               <span style=\"color: #00af00; text-decoration-color: #00af00\">0</span> │\n",
              "├──────────────────────────────────────┼─────────────────────────────┼─────────────────┤\n",
              "│ gru (<span style=\"color: #0087ff; text-decoration-color: #0087ff\">GRU</span>)                            │ (<span style=\"color: #00d7ff; text-decoration-color: #00d7ff\">None</span>, <span style=\"color: #00af00; text-decoration-color: #00af00\">21</span>, <span style=\"color: #00af00; text-decoration-color: #00af00\">64</span>)              │          <span style=\"color: #00af00; text-decoration-color: #00af00\">12,864</span> │\n",
              "├──────────────────────────────────────┼─────────────────────────────┼─────────────────┤\n",
              "│ time_distributed (<span style=\"color: #0087ff; text-decoration-color: #0087ff\">TimeDistributed</span>)   │ (<span style=\"color: #00d7ff; text-decoration-color: #00d7ff\">None</span>, <span style=\"color: #00af00; text-decoration-color: #00af00\">21</span>, <span style=\"color: #00af00; text-decoration-color: #00af00\">345</span>)             │          <span style=\"color: #00af00; text-decoration-color: #00af00\">22,425</span> │\n",
              "├──────────────────────────────────────┼─────────────────────────────┼─────────────────┤\n",
              "│ activation (<span style=\"color: #0087ff; text-decoration-color: #0087ff\">Activation</span>)              │ (<span style=\"color: #00d7ff; text-decoration-color: #00d7ff\">None</span>, <span style=\"color: #00af00; text-decoration-color: #00af00\">21</span>, <span style=\"color: #00af00; text-decoration-color: #00af00\">345</span>)             │               <span style=\"color: #00af00; text-decoration-color: #00af00\">0</span> │\n",
              "└──────────────────────────────────────┴─────────────────────────────┴─────────────────┘\n",
              "</pre>\n"
            ],
            "text/plain": [
              "┏━━━━━━━━━━━━━━━━━━━━━━━━━━━━━━━━━━━━━━┳━━━━━━━━━━━━━━━━━━━━━━━━━━━━━┳━━━━━━━━━━━━━━━━━┓\n",
              "┃\u001b[1m \u001b[0m\u001b[1mLayer (type)                        \u001b[0m\u001b[1m \u001b[0m┃\u001b[1m \u001b[0m\u001b[1mOutput Shape               \u001b[0m\u001b[1m \u001b[0m┃\u001b[1m \u001b[0m\u001b[1m        Param #\u001b[0m\u001b[1m \u001b[0m┃\n",
              "┡━━━━━━━━━━━━━━━━━━━━━━━━━━━━━━━━━━━━━━╇━━━━━━━━━━━━━━━━━━━━━━━━━━━━━╇━━━━━━━━━━━━━━━━━┩\n",
              "│ input_layer (\u001b[38;5;33mInputLayer\u001b[0m)             │ (\u001b[38;5;45mNone\u001b[0m, \u001b[38;5;34m21\u001b[0m, \u001b[38;5;34m1\u001b[0m)               │               \u001b[38;5;34m0\u001b[0m │\n",
              "├──────────────────────────────────────┼─────────────────────────────┼─────────────────┤\n",
              "│ gru (\u001b[38;5;33mGRU\u001b[0m)                            │ (\u001b[38;5;45mNone\u001b[0m, \u001b[38;5;34m21\u001b[0m, \u001b[38;5;34m64\u001b[0m)              │          \u001b[38;5;34m12,864\u001b[0m │\n",
              "├──────────────────────────────────────┼─────────────────────────────┼─────────────────┤\n",
              "│ time_distributed (\u001b[38;5;33mTimeDistributed\u001b[0m)   │ (\u001b[38;5;45mNone\u001b[0m, \u001b[38;5;34m21\u001b[0m, \u001b[38;5;34m345\u001b[0m)             │          \u001b[38;5;34m22,425\u001b[0m │\n",
              "├──────────────────────────────────────┼─────────────────────────────┼─────────────────┤\n",
              "│ activation (\u001b[38;5;33mActivation\u001b[0m)              │ (\u001b[38;5;45mNone\u001b[0m, \u001b[38;5;34m21\u001b[0m, \u001b[38;5;34m345\u001b[0m)             │               \u001b[38;5;34m0\u001b[0m │\n",
              "└──────────────────────────────────────┴─────────────────────────────┴─────────────────┘\n"
            ]
          },
          "metadata": {},
          "output_type": "display_data"
        },
        {
          "data": {
            "text/html": [
              "<pre style=\"white-space:pre;overflow-x:auto;line-height:normal;font-family:Menlo,'DejaVu Sans Mono',consolas,'Courier New',monospace\"><span style=\"font-weight: bold\"> Total params: </span><span style=\"color: #00af00; text-decoration-color: #00af00\">35,289</span> (137.85 KB)\n",
              "</pre>\n"
            ],
            "text/plain": [
              "\u001b[1m Total params: \u001b[0m\u001b[38;5;34m35,289\u001b[0m (137.85 KB)\n"
            ]
          },
          "metadata": {},
          "output_type": "display_data"
        },
        {
          "data": {
            "text/html": [
              "<pre style=\"white-space:pre;overflow-x:auto;line-height:normal;font-family:Menlo,'DejaVu Sans Mono',consolas,'Courier New',monospace\"><span style=\"font-weight: bold\"> Trainable params: </span><span style=\"color: #00af00; text-decoration-color: #00af00\">35,289</span> (137.85 KB)\n",
              "</pre>\n"
            ],
            "text/plain": [
              "\u001b[1m Trainable params: \u001b[0m\u001b[38;5;34m35,289\u001b[0m (137.85 KB)\n"
            ]
          },
          "metadata": {},
          "output_type": "display_data"
        },
        {
          "data": {
            "text/html": [
              "<pre style=\"white-space:pre;overflow-x:auto;line-height:normal;font-family:Menlo,'DejaVu Sans Mono',consolas,'Courier New',monospace\"><span style=\"font-weight: bold\"> Non-trainable params: </span><span style=\"color: #00af00; text-decoration-color: #00af00\">0</span> (0.00 B)\n",
              "</pre>\n"
            ],
            "text/plain": [
              "\u001b[1m Non-trainable params: \u001b[0m\u001b[38;5;34m0\u001b[0m (0.00 B)\n"
            ]
          },
          "metadata": {},
          "output_type": "display_data"
        },
        {
          "output_type": "stream",
          "name": "stdout",
          "text": [
            "Epoch 1/10\n",
            "\u001b[1m6893/6893\u001b[0m \u001b[32m━━━━━━━━━━━━━━━━━━━━\u001b[0m\u001b[37m\u001b[0m \u001b[1m123s\u001b[0m 17ms/step - accuracy: 0.5637 - loss: 1.8806 - val_accuracy: 0.6444 - val_loss: 1.1940\n",
            "Epoch 2/10\n",
            "\u001b[1m6893/6893\u001b[0m \u001b[32m━━━━━━━━━━━━━━━━━━━━\u001b[0m\u001b[37m\u001b[0m \u001b[1m119s\u001b[0m 17ms/step - accuracy: 0.6557 - loss: 1.1613 - val_accuracy: 0.6711 - val_loss: 1.0872\n",
            "Epoch 3/10\n",
            "\u001b[1m6893/6893\u001b[0m \u001b[32m━━━━━━━━━━━━━━━━━━━━\u001b[0m\u001b[37m\u001b[0m \u001b[1m128s\u001b[0m 19ms/step - accuracy: 0.6792 - loss: 1.0679 - val_accuracy: 0.6963 - val_loss: 1.0175\n",
            "Epoch 4/10\n",
            "\u001b[1m6893/6893\u001b[0m \u001b[32m━━━━━━━━━━━━━━━━━━━━\u001b[0m\u001b[37m\u001b[0m \u001b[1m120s\u001b[0m 17ms/step - accuracy: 0.6942 - loss: 1.0124 - val_accuracy: 0.7001 - val_loss: 0.9811\n",
            "Epoch 5/10\n",
            "\u001b[1m6893/6893\u001b[0m \u001b[32m━━━━━━━━━━━━━━━━━━━━\u001b[0m\u001b[37m\u001b[0m \u001b[1m140s\u001b[0m 17ms/step - accuracy: 0.7043 - loss: 0.9723 - val_accuracy: 0.7156 - val_loss: 0.9437\n",
            "Epoch 6/10\n",
            "\u001b[1m6893/6893\u001b[0m \u001b[32m━━━━━━━━━━━━━━━━━━━━\u001b[0m\u001b[37m\u001b[0m \u001b[1m149s\u001b[0m 18ms/step - accuracy: 0.7141 - loss: 0.9393 - val_accuracy: 0.7236 - val_loss: 0.9139\n",
            "Epoch 7/10\n",
            "\u001b[1m6893/6893\u001b[0m \u001b[32m━━━━━━━━━━━━━━━━━━━━\u001b[0m\u001b[37m\u001b[0m \u001b[1m134s\u001b[0m 17ms/step - accuracy: 0.7223 - loss: 0.9120 - val_accuracy: 0.7293 - val_loss: 0.8941\n",
            "Epoch 8/10\n",
            "\u001b[1m6893/6893\u001b[0m \u001b[32m━━━━━━━━━━━━━━━━━━━━\u001b[0m\u001b[37m\u001b[0m \u001b[1m117s\u001b[0m 17ms/step - accuracy: 0.7274 - loss: 0.8910 - val_accuracy: 0.7324 - val_loss: 0.8779\n",
            "Epoch 9/10\n",
            "\u001b[1m6893/6893\u001b[0m \u001b[32m━━━━━━━━━━━━━━━━━━━━\u001b[0m\u001b[37m\u001b[0m \u001b[1m127s\u001b[0m 18ms/step - accuracy: 0.7324 - loss: 0.8723 - val_accuracy: 0.7370 - val_loss: 0.8599\n",
            "Epoch 10/10\n",
            "\u001b[1m6893/6893\u001b[0m \u001b[32m━━━━━━━━━━━━━━━━━━━━\u001b[0m\u001b[37m\u001b[0m \u001b[1m131s\u001b[0m 17ms/step - accuracy: 0.7331 - loss: 0.8629 - val_accuracy: 0.7361 - val_loss: 0.8502\n"
          ]
        },
        {
          "output_type": "execute_result",
          "data": {
            "text/plain": [
              "<keras.src.callbacks.history.History at 0x7b35c3b7c250>"
            ]
          },
          "metadata": {},
          "execution_count": 14
        }
      ],
      "source": [
        "# Train the neural network\n",
        "simple_rnn_model = simple_model(tmp_x.shape,max_french_sequence_length,english_vocab_size,french_vocab_size)\n",
        "\n",
        "simple_rnn_model.summary()\n",
        "\n",
        "simple_rnn_model.fit(tmp_x, preproc_french_sentences, batch_size=16, epochs=10, validation_split=0.2)"
      ]
    },
    {
      "cell_type": "code",
      "execution_count": 15,
      "id": "90a4d99f-2b8d-4140-b85c-b8bbc5c416bc",
      "metadata": {
        "colab": {
          "base_uri": "https://localhost:8080/"
        },
        "id": "90a4d99f-2b8d-4140-b85c-b8bbc5c416bc",
        "outputId": "f803cef2-42f7-437b-b5f3-46c7710701c9"
      },
      "outputs": [
        {
          "output_type": "stream",
          "name": "stdout",
          "text": [
            "\u001b[1m1/1\u001b[0m \u001b[32m━━━━━━━━━━━━━━━━━━━━\u001b[0m\u001b[37m\u001b[0m \u001b[1m1s\u001b[0m 603ms/step\n",
            "new jersey est parfois chaud en mois de il est il est en <PAD> <PAD> <PAD> <PAD> <PAD> <PAD> <PAD> <PAD>\n"
          ]
        }
      ],
      "source": [
        "prediction = simple_rnn_model.predict(tmp_x[:1])\n",
        "print(logits_to_text(prediction[0], french_tokenizer))"
      ]
    },
    {
      "cell_type": "markdown",
      "source": [
        "## **2-layer RNN: Model Definition**"
      ],
      "metadata": {
        "id": "0eIFtVcDyJqs"
      },
      "id": "0eIFtVcDyJqs"
    },
    {
      "cell_type": "code",
      "source": [
        "from keras.models import Model\n",
        "from keras.layers import Input, GRU, SimpleRNN, Dense, TimeDistributed, Activation\n",
        "from keras.optimizers import Adam\n",
        "from keras.losses import sparse_categorical_crossentropy\n",
        "\n",
        "#Build and return a 2-layer stacked Simple RNN model for sequence-to-sequence translation.\n",
        "def stacked_rnn_model(input_shape, output_sequence_length, english_vocab_size, french_vocab_size):\n",
        "\n",
        "    learning_rate = 1e-3\n",
        "\n",
        "    # Input layer\n",
        "    input_seq = Input(shape=input_shape[1:])\n",
        "\n",
        "    # Stacked Simple RNN layers\n",
        "    rnn_1 = SimpleRNN(128, return_sequences=True)(input_seq)\n",
        "    rnn_2 = SimpleRNN(128, return_sequences=True)(rnn_1)\n",
        "\n",
        "    # Output layer\n",
        "    logits = TimeDistributed(Dense(french_vocab_size))(rnn_2)\n",
        "    output = Activation('softmax')(logits)\n",
        "\n",
        "    # Model\n",
        "    model = Model(inputs=input_seq, outputs=output)\n",
        "\n",
        "    model.compile(loss=sparse_categorical_crossentropy,\n",
        "                  optimizer=Adam(learning_rate),\n",
        "                  metrics=['accuracy'])\n",
        "\n",
        "    return model\n",
        "\n",
        "tmp_x = pad(preproc_english_sentences, max_french_sequence_length)\n",
        "tmp_x = tmp_x.reshape((-1, preproc_french_sentences.shape[-2], 1))\n",
        "print(tmp_x.shape[1:])"
      ],
      "metadata": {
        "colab": {
          "base_uri": "https://localhost:8080/"
        },
        "id": "fenZ4YB2M4Kz",
        "outputId": "21e4a825-33f0-45bd-d5bd-ecb32f44711f"
      },
      "id": "fenZ4YB2M4Kz",
      "execution_count": 18,
      "outputs": [
        {
          "output_type": "stream",
          "name": "stdout",
          "text": [
            "(21, 1)\n"
          ]
        }
      ]
    },
    {
      "cell_type": "markdown",
      "source": [
        "# **2-layer RNN: Training**"
      ],
      "metadata": {
        "id": "K5gWqq20NkjF"
      },
      "id": "K5gWqq20NkjF"
    },
    {
      "cell_type": "code",
      "source": [
        "# Train the neural network\n",
        "stacked_rnn = stacked_rnn_model(tmp_x.shape,max_french_sequence_length,english_vocab_size,french_vocab_size)\n",
        "\n",
        "# Display the model architecture\n",
        "stacked_rnn.summary()\n",
        "\n",
        "# Train the model\n",
        "stacked_rnn.fit(tmp_x, preproc_french_sentences, batch_size=16, epochs=10, validation_split=0.2)"
      ],
      "metadata": {
        "colab": {
          "base_uri": "https://localhost:8080/",
          "height": 693
        },
        "id": "lBBf3VnYXag1",
        "outputId": "9cdd8eac-1d04-4a42-bf4a-20ab2d10ee67"
      },
      "id": "lBBf3VnYXag1",
      "execution_count": 19,
      "outputs": [
        {
          "output_type": "display_data",
          "data": {
            "text/plain": [
              "\u001b[1mModel: \"functional_1\"\u001b[0m\n"
            ],
            "text/html": [
              "<pre style=\"white-space:pre;overflow-x:auto;line-height:normal;font-family:Menlo,'DejaVu Sans Mono',consolas,'Courier New',monospace\"><span style=\"font-weight: bold\">Model: \"functional_1\"</span>\n",
              "</pre>\n"
            ]
          },
          "metadata": {}
        },
        {
          "output_type": "display_data",
          "data": {
            "text/plain": [
              "┏━━━━━━━━━━━━━━━━━━━━━━━━━━━━━━━━━━━━━━┳━━━━━━━━━━━━━━━━━━━━━━━━━━━━━┳━━━━━━━━━━━━━━━━━┓\n",
              "┃\u001b[1m \u001b[0m\u001b[1mLayer (type)                        \u001b[0m\u001b[1m \u001b[0m┃\u001b[1m \u001b[0m\u001b[1mOutput Shape               \u001b[0m\u001b[1m \u001b[0m┃\u001b[1m \u001b[0m\u001b[1m        Param #\u001b[0m\u001b[1m \u001b[0m┃\n",
              "┡━━━━━━━━━━━━━━━━━━━━━━━━━━━━━━━━━━━━━━╇━━━━━━━━━━━━━━━━━━━━━━━━━━━━━╇━━━━━━━━━━━━━━━━━┩\n",
              "│ input_layer_1 (\u001b[38;5;33mInputLayer\u001b[0m)           │ (\u001b[38;5;45mNone\u001b[0m, \u001b[38;5;34m21\u001b[0m, \u001b[38;5;34m1\u001b[0m)               │               \u001b[38;5;34m0\u001b[0m │\n",
              "├──────────────────────────────────────┼─────────────────────────────┼─────────────────┤\n",
              "│ simple_rnn (\u001b[38;5;33mSimpleRNN\u001b[0m)               │ (\u001b[38;5;45mNone\u001b[0m, \u001b[38;5;34m21\u001b[0m, \u001b[38;5;34m128\u001b[0m)             │          \u001b[38;5;34m16,640\u001b[0m │\n",
              "├──────────────────────────────────────┼─────────────────────────────┼─────────────────┤\n",
              "│ simple_rnn_1 (\u001b[38;5;33mSimpleRNN\u001b[0m)             │ (\u001b[38;5;45mNone\u001b[0m, \u001b[38;5;34m21\u001b[0m, \u001b[38;5;34m128\u001b[0m)             │          \u001b[38;5;34m32,896\u001b[0m │\n",
              "├──────────────────────────────────────┼─────────────────────────────┼─────────────────┤\n",
              "│ time_distributed_1 (\u001b[38;5;33mTimeDistributed\u001b[0m) │ (\u001b[38;5;45mNone\u001b[0m, \u001b[38;5;34m21\u001b[0m, \u001b[38;5;34m345\u001b[0m)             │          \u001b[38;5;34m44,505\u001b[0m │\n",
              "├──────────────────────────────────────┼─────────────────────────────┼─────────────────┤\n",
              "│ activation_1 (\u001b[38;5;33mActivation\u001b[0m)            │ (\u001b[38;5;45mNone\u001b[0m, \u001b[38;5;34m21\u001b[0m, \u001b[38;5;34m345\u001b[0m)             │               \u001b[38;5;34m0\u001b[0m │\n",
              "└──────────────────────────────────────┴─────────────────────────────┴─────────────────┘\n"
            ],
            "text/html": [
              "<pre style=\"white-space:pre;overflow-x:auto;line-height:normal;font-family:Menlo,'DejaVu Sans Mono',consolas,'Courier New',monospace\">┏━━━━━━━━━━━━━━━━━━━━━━━━━━━━━━━━━━━━━━┳━━━━━━━━━━━━━━━━━━━━━━━━━━━━━┳━━━━━━━━━━━━━━━━━┓\n",
              "┃<span style=\"font-weight: bold\"> Layer (type)                         </span>┃<span style=\"font-weight: bold\"> Output Shape                </span>┃<span style=\"font-weight: bold\">         Param # </span>┃\n",
              "┡━━━━━━━━━━━━━━━━━━━━━━━━━━━━━━━━━━━━━━╇━━━━━━━━━━━━━━━━━━━━━━━━━━━━━╇━━━━━━━━━━━━━━━━━┩\n",
              "│ input_layer_1 (<span style=\"color: #0087ff; text-decoration-color: #0087ff\">InputLayer</span>)           │ (<span style=\"color: #00d7ff; text-decoration-color: #00d7ff\">None</span>, <span style=\"color: #00af00; text-decoration-color: #00af00\">21</span>, <span style=\"color: #00af00; text-decoration-color: #00af00\">1</span>)               │               <span style=\"color: #00af00; text-decoration-color: #00af00\">0</span> │\n",
              "├──────────────────────────────────────┼─────────────────────────────┼─────────────────┤\n",
              "│ simple_rnn (<span style=\"color: #0087ff; text-decoration-color: #0087ff\">SimpleRNN</span>)               │ (<span style=\"color: #00d7ff; text-decoration-color: #00d7ff\">None</span>, <span style=\"color: #00af00; text-decoration-color: #00af00\">21</span>, <span style=\"color: #00af00; text-decoration-color: #00af00\">128</span>)             │          <span style=\"color: #00af00; text-decoration-color: #00af00\">16,640</span> │\n",
              "├──────────────────────────────────────┼─────────────────────────────┼─────────────────┤\n",
              "│ simple_rnn_1 (<span style=\"color: #0087ff; text-decoration-color: #0087ff\">SimpleRNN</span>)             │ (<span style=\"color: #00d7ff; text-decoration-color: #00d7ff\">None</span>, <span style=\"color: #00af00; text-decoration-color: #00af00\">21</span>, <span style=\"color: #00af00; text-decoration-color: #00af00\">128</span>)             │          <span style=\"color: #00af00; text-decoration-color: #00af00\">32,896</span> │\n",
              "├──────────────────────────────────────┼─────────────────────────────┼─────────────────┤\n",
              "│ time_distributed_1 (<span style=\"color: #0087ff; text-decoration-color: #0087ff\">TimeDistributed</span>) │ (<span style=\"color: #00d7ff; text-decoration-color: #00d7ff\">None</span>, <span style=\"color: #00af00; text-decoration-color: #00af00\">21</span>, <span style=\"color: #00af00; text-decoration-color: #00af00\">345</span>)             │          <span style=\"color: #00af00; text-decoration-color: #00af00\">44,505</span> │\n",
              "├──────────────────────────────────────┼─────────────────────────────┼─────────────────┤\n",
              "│ activation_1 (<span style=\"color: #0087ff; text-decoration-color: #0087ff\">Activation</span>)            │ (<span style=\"color: #00d7ff; text-decoration-color: #00d7ff\">None</span>, <span style=\"color: #00af00; text-decoration-color: #00af00\">21</span>, <span style=\"color: #00af00; text-decoration-color: #00af00\">345</span>)             │               <span style=\"color: #00af00; text-decoration-color: #00af00\">0</span> │\n",
              "└──────────────────────────────────────┴─────────────────────────────┴─────────────────┘\n",
              "</pre>\n"
            ]
          },
          "metadata": {}
        },
        {
          "output_type": "display_data",
          "data": {
            "text/plain": [
              "\u001b[1m Total params: \u001b[0m\u001b[38;5;34m94,041\u001b[0m (367.35 KB)\n"
            ],
            "text/html": [
              "<pre style=\"white-space:pre;overflow-x:auto;line-height:normal;font-family:Menlo,'DejaVu Sans Mono',consolas,'Courier New',monospace\"><span style=\"font-weight: bold\"> Total params: </span><span style=\"color: #00af00; text-decoration-color: #00af00\">94,041</span> (367.35 KB)\n",
              "</pre>\n"
            ]
          },
          "metadata": {}
        },
        {
          "output_type": "display_data",
          "data": {
            "text/plain": [
              "\u001b[1m Trainable params: \u001b[0m\u001b[38;5;34m94,041\u001b[0m (367.35 KB)\n"
            ],
            "text/html": [
              "<pre style=\"white-space:pre;overflow-x:auto;line-height:normal;font-family:Menlo,'DejaVu Sans Mono',consolas,'Courier New',monospace\"><span style=\"font-weight: bold\"> Trainable params: </span><span style=\"color: #00af00; text-decoration-color: #00af00\">94,041</span> (367.35 KB)\n",
              "</pre>\n"
            ]
          },
          "metadata": {}
        },
        {
          "output_type": "display_data",
          "data": {
            "text/plain": [
              "\u001b[1m Non-trainable params: \u001b[0m\u001b[38;5;34m0\u001b[0m (0.00 B)\n"
            ],
            "text/html": [
              "<pre style=\"white-space:pre;overflow-x:auto;line-height:normal;font-family:Menlo,'DejaVu Sans Mono',consolas,'Courier New',monospace\"><span style=\"font-weight: bold\"> Non-trainable params: </span><span style=\"color: #00af00; text-decoration-color: #00af00\">0</span> (0.00 B)\n",
              "</pre>\n"
            ]
          },
          "metadata": {}
        },
        {
          "output_type": "stream",
          "name": "stdout",
          "text": [
            "Epoch 1/10\n",
            "\u001b[1m6893/6893\u001b[0m \u001b[32m━━━━━━━━━━━━━━━━━━━━\u001b[0m\u001b[37m\u001b[0m \u001b[1m174s\u001b[0m 25ms/step - accuracy: 0.6203 - loss: 1.4448 - val_accuracy: 0.7243 - val_loss: 0.9062\n",
            "Epoch 2/10\n",
            "\u001b[1m6893/6893\u001b[0m \u001b[32m━━━━━━━━━━━━━━━━━━━━\u001b[0m\u001b[37m\u001b[0m \u001b[1m201s\u001b[0m 25ms/step - accuracy: 0.7185 - loss: 0.8957 - val_accuracy: 0.7382 - val_loss: 0.7977\n",
            "Epoch 3/10\n",
            "\u001b[1m6893/6893\u001b[0m \u001b[32m━━━━━━━━━━━━━━━━━━━━\u001b[0m\u001b[37m\u001b[0m \u001b[1m197s\u001b[0m 24ms/step - accuracy: 0.7387 - loss: 0.8014 - val_accuracy: 0.7511 - val_loss: 0.7482\n",
            "Epoch 4/10\n",
            "\u001b[1m6893/6893\u001b[0m \u001b[32m━━━━━━━━━━━━━━━━━━━━\u001b[0m\u001b[37m\u001b[0m \u001b[1m170s\u001b[0m 25ms/step - accuracy: 0.7550 - loss: 0.7392 - val_accuracy: 0.7774 - val_loss: 0.6827\n",
            "Epoch 5/10\n",
            "\u001b[1m6893/6893\u001b[0m \u001b[32m━━━━━━━━━━━━━━━━━━━━\u001b[0m\u001b[37m\u001b[0m \u001b[1m197s\u001b[0m 24ms/step - accuracy: 0.7617 - loss: 0.7169 - val_accuracy: 0.7823 - val_loss: 0.6707\n",
            "Epoch 6/10\n",
            "\u001b[1m6893/6893\u001b[0m \u001b[32m━━━━━━━━━━━━━━━━━━━━\u001b[0m\u001b[37m\u001b[0m \u001b[1m203s\u001b[0m 24ms/step - accuracy: 0.7698 - loss: 0.6877 - val_accuracy: 0.7731 - val_loss: 0.6786\n",
            "Epoch 7/10\n",
            "\u001b[1m6893/6893\u001b[0m \u001b[32m━━━━━━━━━━━━━━━━━━━━\u001b[0m\u001b[37m\u001b[0m \u001b[1m205s\u001b[0m 25ms/step - accuracy: 0.7806 - loss: 0.6574 - val_accuracy: 0.7713 - val_loss: 0.6721\n",
            "Epoch 8/10\n",
            "\u001b[1m6893/6893\u001b[0m \u001b[32m━━━━━━━━━━━━━━━━━━━━\u001b[0m\u001b[37m\u001b[0m \u001b[1m196s\u001b[0m 24ms/step - accuracy: 0.7896 - loss: 0.6285 - val_accuracy: 0.7902 - val_loss: 0.6331\n",
            "Epoch 9/10\n",
            "\u001b[1m6893/6893\u001b[0m \u001b[32m━━━━━━━━━━━━━━━━━━━━\u001b[0m\u001b[37m\u001b[0m \u001b[1m209s\u001b[0m 25ms/step - accuracy: 0.7932 - loss: 0.6214 - val_accuracy: 0.7420 - val_loss: 0.7612\n",
            "Epoch 10/10\n",
            "\u001b[1m6893/6893\u001b[0m \u001b[32m━━━━━━━━━━━━━━━━━━━━\u001b[0m\u001b[37m\u001b[0m \u001b[1m170s\u001b[0m 25ms/step - accuracy: 0.7939 - loss: 0.6148 - val_accuracy: 0.7762 - val_loss: 0.6407\n"
          ]
        },
        {
          "output_type": "execute_result",
          "data": {
            "text/plain": [
              "<keras.src.callbacks.history.History at 0x7b35c73a2b50>"
            ]
          },
          "metadata": {},
          "execution_count": 19
        }
      ]
    },
    {
      "cell_type": "markdown",
      "source": [
        "# **Stacked 2-layer RNN: English to French Translation**"
      ],
      "metadata": {
        "id": "eld4SkJTjoHI"
      },
      "id": "eld4SkJTjoHI"
    },
    {
      "cell_type": "code",
      "source": [
        "import numpy as np\n",
        "from keras.preprocessing.sequence import pad_sequences as pad\n",
        "\n",
        "# reverse tokenizer for English and French\n",
        "reverse_french_tokenizer = {index: word for word, index in french_tokenizer.word_index.items()}\n",
        "reverse_french_tokenizer[0] = '<PAD>'\n",
        "\n",
        "reverse_english_tokenizer = {index: word for word, index in english_tokenizer.word_index.items()}\n",
        "reverse_english_tokenizer[0] = '<PAD>'\n",
        "\n",
        "# 10 english input\n",
        "sample_inputs = preproc_english_sentences[:10]\n",
        "\n",
        "# Pad and reshape inputs, same as training\n",
        "sample_inputs = pad(sample_inputs, max_french_sequence_length)\n",
        "sample_inputs = sample_inputs.reshape((-1, max_french_sequence_length, 1))\n",
        "\n",
        "# predict French translations using the stacked 2-layer RNN model\n",
        "predictions = stacked_rnn.predict(sample_inputs)\n",
        "predicted_token_ids = predictions.argmax(axis=-1)\n",
        "\n",
        "# helper function to decode token sequences into readable sentences\n",
        "def decode_tokens(token_ids, tokenizer_dict):\n",
        "    return ' '.join([tokenizer_dict.get(token, '') for token in token_ids if token != 0])\n",
        "\n",
        "# predict 10 english to french translations\n",
        "for i in range(10):\n",
        "    original_eng_tokens = preproc_english_sentences[i]\n",
        "    english_sentence = decode_tokens(original_eng_tokens, reverse_english_tokenizer)\n",
        "    french_sentence = decode_tokens(predicted_token_ids[i], reverse_french_tokenizer)\n",
        "\n",
        "    print(f\"English {i+1}: {english_sentence}\")\n",
        "    print(f\"French {i+1}: {french_sentence}\\n\")"
      ],
      "metadata": {
        "colab": {
          "base_uri": "https://localhost:8080/"
        },
        "id": "x6ZyM54Sk3aX",
        "outputId": "a61b51f0-f144-4a7b-c132-4104c5f14ff2"
      },
      "id": "x6ZyM54Sk3aX",
      "execution_count": 21,
      "outputs": [
        {
          "output_type": "stream",
          "name": "stdout",
          "text": [
            "\u001b[1m1/1\u001b[0m \u001b[32m━━━━━━━━━━━━━━━━━━━━\u001b[0m\u001b[37m\u001b[0m \u001b[1m0s\u001b[0m 50ms/step\n",
            "English 1: new jersey is sometimes quiet during autumn and it is snowy in april\n",
            "French 1: fruits new new new new raisin new états est le humide au mars de il est il en chaud avril avril\n",
            "\n",
            "English 2: the united states is usually chilly during july and it is usually freezing in november\n",
            "French 2: fruits new new new new raisin new new pamplemousse est le été en septembre et il est généralement agréable habituellement\n",
            "\n",
            "English 3: california is usually quiet during march and it is usually hot in june\n",
            "French 3: fruits new new new new raisin new est le au au mois et il est généralement chaud en juin juin\n",
            "\n",
            "English 4: the united states is sometimes mild during june and it is cold in september\n",
            "French 4: fruits new new new new raisin new new pamplemousse est le humide au l' et il est froid en septembre\n",
            "\n",
            "English 5: your least liked fruit is the grape but my least liked is the apple\n",
            "French 5: fruits new new new new raisin new états unis moins aimé est le mais mais mon aimé est la\n",
            "\n",
            "English 6: his favorite fruit is the orange but my favorite is the grape\n",
            "French 6: fruits new new new new raisin new états unis est le mais mais mais est la raisin\n",
            "\n",
            "English 7: paris is relaxing during december but it is usually chilly in july\n",
            "French 7: fruits new new new new raisin new est chaud en décembre mais il est généralement froid en septembre\n",
            "\n",
            "English 8: new jersey is busy during spring and it is never hot in march\n",
            "French 8: fruits new new new new raisin new états est la au juin et il est jamais chaud en mars\n",
            "\n",
            "English 9: our least liked fruit is the lemon but my least liked is the grape\n",
            "French 9: fruits new new new new raisin la pamplemousse unis plus aimé est la citron mais mon moins est la pomme raisin\n",
            "\n",
            "English 10: the united states is sometimes busy during january and it is sometimes warm in november\n",
            "French 10: fruits new new new new raisin new new pamplemousse est le froid en l' et il est parfois froid en novembre\n",
            "\n"
          ]
        }
      ]
    },
    {
      "cell_type": "markdown",
      "source": [
        "## **2-layer LSTM: Model Definition**"
      ],
      "metadata": {
        "id": "yFW4UCCcn3H8"
      },
      "id": "yFW4UCCcn3H8"
    },
    {
      "cell_type": "code",
      "source": [
        "from keras.models import Model\n",
        "from keras.layers import Input, LSTM, Dense, TimeDistributed, Activation\n",
        "from keras.optimizers import Adam\n",
        "from keras.losses import sparse_categorical_crossentropy\n",
        "\n",
        "# 2-layer stacked LSTM model for sequence-to-sequence translation\n",
        "def stacked_lstm_model(input_shape, output_sequence_length, english_vocab_size, french_vocab_size):\n",
        "    learning_rate = 1e-3\n",
        "\n",
        "    # Input layer\n",
        "    input_seq = Input(shape=input_shape[1:])\n",
        "\n",
        "    # Stacked LSTM layers\n",
        "    lstm_1 = LSTM(128, return_sequences=True)(input_seq)\n",
        "    lstm_2 = LSTM(128, return_sequences=True)(lstm_1)\n",
        "\n",
        "    # TimeDistributed output layer\n",
        "    logits = TimeDistributed(Dense(french_vocab_size))(lstm_2)\n",
        "    output = Activation('softmax')(logits)\n",
        "\n",
        "    # Create and compile model\n",
        "    model = Model(inputs=input_seq, outputs=output)\n",
        "    model.compile(loss=sparse_categorical_crossentropy,\n",
        "                  optimizer=Adam(learning_rate),\n",
        "                  metrics=['accuracy'])\n",
        "\n",
        "    return model\n",
        "\n",
        "tmp_x = pad(preproc_english_sentences, max_french_sequence_length)\n",
        "tmp_x = tmp_x.reshape((-1, preproc_french_sentences.shape[-2], 1))\n",
        "print(tmp_x.shape[1:])"
      ],
      "metadata": {
        "colab": {
          "base_uri": "https://localhost:8080/"
        },
        "id": "C0-H-MlCpGbA",
        "outputId": "8274a871-9599-4628-a648-0b7b7642379e"
      },
      "id": "C0-H-MlCpGbA",
      "execution_count": 30,
      "outputs": [
        {
          "output_type": "stream",
          "name": "stdout",
          "text": [
            "(21, 1)\n"
          ]
        }
      ]
    },
    {
      "cell_type": "markdown",
      "source": [
        "# **2-layer LSTM: Training**"
      ],
      "metadata": {
        "id": "nDabwOpI3HoH"
      },
      "id": "nDabwOpI3HoH"
    },
    {
      "cell_type": "code",
      "source": [
        "# Train the neural network\n",
        "stacked_lstm = stacked_lstm_model(tmp_x.shape,max_french_sequence_length,english_vocab_size,french_vocab_size)\n",
        "\n",
        "# Display the model architecture\n",
        "stacked_lstm.summary()\n",
        "\n",
        "# Train the model\n",
        "stacked_lstm.fit(tmp_x, preproc_french_sentences, batch_size=16, epochs=10, validation_split=0.2)"
      ],
      "metadata": {
        "colab": {
          "base_uri": "https://localhost:8080/",
          "height": 693
        },
        "id": "mrS8nX1f3PWM",
        "outputId": "1c377e26-7197-47b7-c1c6-c1ae1ab05592"
      },
      "id": "mrS8nX1f3PWM",
      "execution_count": 25,
      "outputs": [
        {
          "data": {
            "text/html": [
              "<pre style=\"white-space:pre;overflow-x:auto;line-height:normal;font-family:Menlo,'DejaVu Sans Mono',consolas,'Courier New',monospace\"><span style=\"font-weight: bold\">Model: \"functional_3\"</span>\n",
              "</pre>\n"
            ],
            "text/plain": [
              "\u001b[1mModel: \"functional_3\"\u001b[0m\n"
            ]
          },
          "metadata": {},
          "output_type": "display_data"
        },
        {
          "data": {
            "text/html": [
              "<pre style=\"white-space:pre;overflow-x:auto;line-height:normal;font-family:Menlo,'DejaVu Sans Mono',consolas,'Courier New',monospace\">┏━━━━━━━━━━━━━━━━━━━━━━━━━━━━━━━━━━━━━━┳━━━━━━━━━━━━━━━━━━━━━━━━━━━━━┳━━━━━━━━━━━━━━━━━┓\n",
              "┃<span style=\"font-weight: bold\"> Layer (type)                         </span>┃<span style=\"font-weight: bold\"> Output Shape                </span>┃<span style=\"font-weight: bold\">         Param # </span>┃\n",
              "┡━━━━━━━━━━━━━━━━━━━━━━━━━━━━━━━━━━━━━━╇━━━━━━━━━━━━━━━━━━━━━━━━━━━━━╇━━━━━━━━━━━━━━━━━┩\n",
              "│ input_layer_3 (<span style=\"color: #0087ff; text-decoration-color: #0087ff\">InputLayer</span>)           │ (<span style=\"color: #00d7ff; text-decoration-color: #00d7ff\">None</span>, <span style=\"color: #00af00; text-decoration-color: #00af00\">21</span>, <span style=\"color: #00af00; text-decoration-color: #00af00\">1</span>)               │               <span style=\"color: #00af00; text-decoration-color: #00af00\">0</span> │\n",
              "├──────────────────────────────────────┼─────────────────────────────┼─────────────────┤\n",
              "│ lstm_2 (<span style=\"color: #0087ff; text-decoration-color: #0087ff\">LSTM</span>)                        │ (<span style=\"color: #00d7ff; text-decoration-color: #00d7ff\">None</span>, <span style=\"color: #00af00; text-decoration-color: #00af00\">21</span>, <span style=\"color: #00af00; text-decoration-color: #00af00\">128</span>)             │          <span style=\"color: #00af00; text-decoration-color: #00af00\">66,560</span> │\n",
              "├──────────────────────────────────────┼─────────────────────────────┼─────────────────┤\n",
              "│ lstm_3 (<span style=\"color: #0087ff; text-decoration-color: #0087ff\">LSTM</span>)                        │ (<span style=\"color: #00d7ff; text-decoration-color: #00d7ff\">None</span>, <span style=\"color: #00af00; text-decoration-color: #00af00\">21</span>, <span style=\"color: #00af00; text-decoration-color: #00af00\">128</span>)             │         <span style=\"color: #00af00; text-decoration-color: #00af00\">131,584</span> │\n",
              "├──────────────────────────────────────┼─────────────────────────────┼─────────────────┤\n",
              "│ time_distributed_3 (<span style=\"color: #0087ff; text-decoration-color: #0087ff\">TimeDistributed</span>) │ (<span style=\"color: #00d7ff; text-decoration-color: #00d7ff\">None</span>, <span style=\"color: #00af00; text-decoration-color: #00af00\">21</span>, <span style=\"color: #00af00; text-decoration-color: #00af00\">345</span>)             │          <span style=\"color: #00af00; text-decoration-color: #00af00\">44,505</span> │\n",
              "├──────────────────────────────────────┼─────────────────────────────┼─────────────────┤\n",
              "│ activation_3 (<span style=\"color: #0087ff; text-decoration-color: #0087ff\">Activation</span>)            │ (<span style=\"color: #00d7ff; text-decoration-color: #00d7ff\">None</span>, <span style=\"color: #00af00; text-decoration-color: #00af00\">21</span>, <span style=\"color: #00af00; text-decoration-color: #00af00\">345</span>)             │               <span style=\"color: #00af00; text-decoration-color: #00af00\">0</span> │\n",
              "└──────────────────────────────────────┴─────────────────────────────┴─────────────────┘\n",
              "</pre>\n"
            ],
            "text/plain": [
              "┏━━━━━━━━━━━━━━━━━━━━━━━━━━━━━━━━━━━━━━┳━━━━━━━━━━━━━━━━━━━━━━━━━━━━━┳━━━━━━━━━━━━━━━━━┓\n",
              "┃\u001b[1m \u001b[0m\u001b[1mLayer (type)                        \u001b[0m\u001b[1m \u001b[0m┃\u001b[1m \u001b[0m\u001b[1mOutput Shape               \u001b[0m\u001b[1m \u001b[0m┃\u001b[1m \u001b[0m\u001b[1m        Param #\u001b[0m\u001b[1m \u001b[0m┃\n",
              "┡━━━━━━━━━━━━━━━━━━━━━━━━━━━━━━━━━━━━━━╇━━━━━━━━━━━━━━━━━━━━━━━━━━━━━╇━━━━━━━━━━━━━━━━━┩\n",
              "│ input_layer_3 (\u001b[38;5;33mInputLayer\u001b[0m)           │ (\u001b[38;5;45mNone\u001b[0m, \u001b[38;5;34m21\u001b[0m, \u001b[38;5;34m1\u001b[0m)               │               \u001b[38;5;34m0\u001b[0m │\n",
              "├──────────────────────────────────────┼─────────────────────────────┼─────────────────┤\n",
              "│ lstm_2 (\u001b[38;5;33mLSTM\u001b[0m)                        │ (\u001b[38;5;45mNone\u001b[0m, \u001b[38;5;34m21\u001b[0m, \u001b[38;5;34m128\u001b[0m)             │          \u001b[38;5;34m66,560\u001b[0m │\n",
              "├──────────────────────────────────────┼─────────────────────────────┼─────────────────┤\n",
              "│ lstm_3 (\u001b[38;5;33mLSTM\u001b[0m)                        │ (\u001b[38;5;45mNone\u001b[0m, \u001b[38;5;34m21\u001b[0m, \u001b[38;5;34m128\u001b[0m)             │         \u001b[38;5;34m131,584\u001b[0m │\n",
              "├──────────────────────────────────────┼─────────────────────────────┼─────────────────┤\n",
              "│ time_distributed_3 (\u001b[38;5;33mTimeDistributed\u001b[0m) │ (\u001b[38;5;45mNone\u001b[0m, \u001b[38;5;34m21\u001b[0m, \u001b[38;5;34m345\u001b[0m)             │          \u001b[38;5;34m44,505\u001b[0m │\n",
              "├──────────────────────────────────────┼─────────────────────────────┼─────────────────┤\n",
              "│ activation_3 (\u001b[38;5;33mActivation\u001b[0m)            │ (\u001b[38;5;45mNone\u001b[0m, \u001b[38;5;34m21\u001b[0m, \u001b[38;5;34m345\u001b[0m)             │               \u001b[38;5;34m0\u001b[0m │\n",
              "└──────────────────────────────────────┴─────────────────────────────┴─────────────────┘\n"
            ]
          },
          "metadata": {},
          "output_type": "display_data"
        },
        {
          "data": {
            "text/html": [
              "<pre style=\"white-space:pre;overflow-x:auto;line-height:normal;font-family:Menlo,'DejaVu Sans Mono',consolas,'Courier New',monospace\"><span style=\"font-weight: bold\"> Total params: </span><span style=\"color: #00af00; text-decoration-color: #00af00\">242,649</span> (947.85 KB)\n",
              "</pre>\n"
            ],
            "text/plain": [
              "\u001b[1m Total params: \u001b[0m\u001b[38;5;34m242,649\u001b[0m (947.85 KB)\n"
            ]
          },
          "metadata": {},
          "output_type": "display_data"
        },
        {
          "data": {
            "text/html": [
              "<pre style=\"white-space:pre;overflow-x:auto;line-height:normal;font-family:Menlo,'DejaVu Sans Mono',consolas,'Courier New',monospace\"><span style=\"font-weight: bold\"> Trainable params: </span><span style=\"color: #00af00; text-decoration-color: #00af00\">242,649</span> (947.85 KB)\n",
              "</pre>\n"
            ],
            "text/plain": [
              "\u001b[1m Trainable params: \u001b[0m\u001b[38;5;34m242,649\u001b[0m (947.85 KB)\n"
            ]
          },
          "metadata": {},
          "output_type": "display_data"
        },
        {
          "data": {
            "text/html": [
              "<pre style=\"white-space:pre;overflow-x:auto;line-height:normal;font-family:Menlo,'DejaVu Sans Mono',consolas,'Courier New',monospace\"><span style=\"font-weight: bold\"> Non-trainable params: </span><span style=\"color: #00af00; text-decoration-color: #00af00\">0</span> (0.00 B)\n",
              "</pre>\n"
            ],
            "text/plain": [
              "\u001b[1m Non-trainable params: \u001b[0m\u001b[38;5;34m0\u001b[0m (0.00 B)\n"
            ]
          },
          "metadata": {},
          "output_type": "display_data"
        },
        {
          "output_type": "stream",
          "name": "stdout",
          "text": [
            "Epoch 1/10\n",
            "\u001b[1m6893/6893\u001b[0m \u001b[32m━━━━━━━━━━━━━━━━━━━━\u001b[0m\u001b[37m\u001b[0m \u001b[1m328s\u001b[0m 47ms/step - accuracy: 0.5109 - loss: 2.1562 - val_accuracy: 0.5411 - val_loss: 1.8362\n",
            "Epoch 2/10\n",
            "\u001b[1m6893/6893\u001b[0m \u001b[32m━━━━━━━━━━━━━━━━━━━━\u001b[0m\u001b[37m\u001b[0m \u001b[1m382s\u001b[0m 47ms/step - accuracy: 0.5401 - loss: 1.8339 - val_accuracy: 0.5439 - val_loss: 1.8123\n",
            "Epoch 3/10\n",
            "\u001b[1m6893/6893\u001b[0m \u001b[32m━━━━━━━━━━━━━━━━━━━━\u001b[0m\u001b[37m\u001b[0m \u001b[1m381s\u001b[0m 47ms/step - accuracy: 0.5431 - loss: 1.8136 - val_accuracy: 0.5448 - val_loss: 1.8022\n",
            "Epoch 4/10\n",
            "\u001b[1m6893/6893\u001b[0m \u001b[32m━━━━━━━━━━━━━━━━━━━━\u001b[0m\u001b[37m\u001b[0m \u001b[1m322s\u001b[0m 47ms/step - accuracy: 0.5433 - loss: 1.8065 - val_accuracy: 0.5446 - val_loss: 1.7947\n",
            "Epoch 5/10\n",
            "\u001b[1m6893/6893\u001b[0m \u001b[32m━━━━━━━━━━━━━━━━━━━━\u001b[0m\u001b[37m\u001b[0m \u001b[1m304s\u001b[0m 44ms/step - accuracy: 0.5444 - loss: 1.7994 - val_accuracy: 0.5464 - val_loss: 1.7922\n",
            "Epoch 6/10\n",
            "\u001b[1m6893/6893\u001b[0m \u001b[32m━━━━━━━━━━━━━━━━━━━━\u001b[0m\u001b[37m\u001b[0m \u001b[1m341s\u001b[0m 47ms/step - accuracy: 0.5448 - loss: 1.7928 - val_accuracy: 0.5464 - val_loss: 1.7885\n",
            "Epoch 7/10\n",
            "\u001b[1m6893/6893\u001b[0m \u001b[32m━━━━━━━━━━━━━━━━━━━━\u001b[0m\u001b[37m\u001b[0m \u001b[1m381s\u001b[0m 47ms/step - accuracy: 0.5449 - loss: 1.7939 - val_accuracy: 0.5473 - val_loss: 1.7834\n",
            "Epoch 8/10\n",
            "\u001b[1m6893/6893\u001b[0m \u001b[32m━━━━━━━━━━━━━━━━━━━━\u001b[0m\u001b[37m\u001b[0m \u001b[1m364s\u001b[0m 44ms/step - accuracy: 0.5460 - loss: 1.7860 - val_accuracy: 0.5469 - val_loss: 1.7845\n",
            "Epoch 9/10\n",
            "\u001b[1m6893/6893\u001b[0m \u001b[32m━━━━━━━━━━━━━━━━━━━━\u001b[0m\u001b[37m\u001b[0m \u001b[1m321s\u001b[0m 44ms/step - accuracy: 0.5459 - loss: 1.7854 - val_accuracy: 0.5485 - val_loss: 1.7773\n",
            "Epoch 10/10\n",
            "\u001b[1m6893/6893\u001b[0m \u001b[32m━━━━━━━━━━━━━━━━━━━━\u001b[0m\u001b[37m\u001b[0m \u001b[1m338s\u001b[0m 46ms/step - accuracy: 0.5466 - loss: 1.7814 - val_accuracy: 0.5475 - val_loss: 1.7771\n"
          ]
        },
        {
          "output_type": "execute_result",
          "data": {
            "text/plain": [
              "<keras.src.callbacks.history.History at 0x7b35c40b9d90>"
            ]
          },
          "metadata": {},
          "execution_count": 25
        }
      ]
    },
    {
      "cell_type": "markdown",
      "source": [
        "# **Stacked 2-layer LSTM: English to French Translation**"
      ],
      "metadata": {
        "id": "jlZiXgdsHgQZ"
      },
      "id": "jlZiXgdsHgQZ"
    },
    {
      "cell_type": "code",
      "source": [
        "import numpy as np\n",
        "from keras.preprocessing.sequence import pad_sequences as pad\n",
        "\n",
        "# reverse tokenizer for English and French\n",
        "reverse_french_tokenizer = {index: word for word, index in french_tokenizer.word_index.items()}\n",
        "reverse_french_tokenizer[0] = '<PAD>'\n",
        "\n",
        "reverse_english_tokenizer = {index: word for word, index in english_tokenizer.word_index.items()}\n",
        "reverse_english_tokenizer[0] = '<PAD>'\n",
        "\n",
        "# 10 english input\n",
        "sample_inputs = preproc_english_sentences[:10]\n",
        "\n",
        "# Pad and reshape inputs, same as training\n",
        "sample_inputs = pad(sample_inputs, max_french_sequence_length)\n",
        "sample_inputs = sample_inputs.reshape((-1, max_french_sequence_length, 1))\n",
        "\n",
        "# predict French translations using the stacked 2-layer LSTM model\n",
        "predictions = stacked_lstm.predict(sample_inputs)\n",
        "predicted_token_ids = predictions.argmax(axis=-1)\n",
        "\n",
        "# helper function to decode token sequences into readable sentences\n",
        "def decode_tokens(token_ids, tokenizer_dict):\n",
        "    return ' '.join([tokenizer_dict.get(token, '') for token in token_ids if token != 0])\n",
        "\n",
        "# predict 10 english to french translations\n",
        "for i in range(10):\n",
        "    original_eng_tokens = preproc_english_sentences[i]\n",
        "    english_sentence = decode_tokens(original_eng_tokens, reverse_english_tokenizer)\n",
        "    french_sentence = decode_tokens(predicted_token_ids[i], reverse_french_tokenizer)\n",
        "\n",
        "    print(f\"English {i+1}: {english_sentence}\")\n",
        "    print(f\"French {i+1}: {french_sentence}\\n\")"
      ],
      "metadata": {
        "colab": {
          "base_uri": "https://localhost:8080/"
        },
        "id": "58IDtjfhHkY5",
        "outputId": "be807a43-eeb1-48c2-9cb0-e3b59eaec3b8"
      },
      "id": "58IDtjfhHkY5",
      "execution_count": 26,
      "outputs": [
        {
          "output_type": "stream",
          "name": "stdout",
          "text": [
            "\u001b[1m1/1\u001b[0m \u001b[32m━━━━━━━━━━━━━━━━━━━━\u001b[0m\u001b[37m\u001b[0m \u001b[1m1s\u001b[0m 637ms/step\n",
            "English 1: new jersey is sometimes quiet during autumn and it is snowy in april\n",
            "French 1: la est est est les en mois et il est il est en en\n",
            "\n",
            "English 2: the united states is usually chilly during july and it is usually freezing in november\n",
            "French 2: la est est est les en en l' et il est il est en\n",
            "\n",
            "English 3: california is usually quiet during march and it is usually hot in june\n",
            "French 3: la est est est les en et il est est est en en\n",
            "\n",
            "English 4: the united states is sometimes mild during june and it is cold in september\n",
            "French 4: la est est est les en en l' et il est il est en\n",
            "\n",
            "English 5: your least liked fruit is the grape but my least liked is the apple\n",
            "French 5: la est est est les en mais mais mais moins aimé est la\n",
            "\n",
            "English 6: his favorite fruit is the orange but my favorite is the grape\n",
            "French 6: la est est est les en mais son préféré est la\n",
            "\n",
            "English 7: paris is relaxing during december but it is usually chilly in july\n",
            "French 7: la est est est les en et il il est en en\n",
            "\n",
            "English 8: new jersey is busy during spring and it is never hot in march\n",
            "French 8: la est est est les en mois et il il est en\n",
            "\n",
            "English 9: our least liked fruit is the lemon but my least liked is the grape\n",
            "French 9: la est est est les en mais mais son moins aimé est la\n",
            "\n",
            "English 10: the united states is sometimes busy during january and it is sometimes warm in november\n",
            "French 10: la est est est les en en l' et il est il est en\n",
            "\n"
          ]
        }
      ]
    },
    {
      "cell_type": "markdown",
      "source": [
        "## **2-layer GRU: Model Definition**"
      ],
      "metadata": {
        "id": "eBYI-YwSJRol"
      },
      "id": "eBYI-YwSJRol"
    },
    {
      "cell_type": "code",
      "source": [
        "from keras.models import Model\n",
        "from keras.layers import Input, GRU, Dense, TimeDistributed, Activation\n",
        "from keras.optimizers import Adam\n",
        "from keras.losses import sparse_categorical_crossentropy\n",
        "\n",
        "# 2-layer stacked GRU model for sequence-to-sequence translation\n",
        "def stacked_gru_model(input_shape, output_sequence_length, english_vocab_size, french_vocab_size):\n",
        "    learning_rate = 1e-3\n",
        "\n",
        "    # Input layer\n",
        "    input_seq = Input(shape=input_shape[1:])\n",
        "\n",
        "    # Stacked GRU layers\n",
        "    gru_1 = GRU(128, return_sequences=True)(input_seq)\n",
        "    gru_2 = GRU(128, return_sequences=True)(gru_1)\n",
        "\n",
        "    # TimeDistributed output layer\n",
        "    logits = TimeDistributed(Dense(french_vocab_size))(gru_2)\n",
        "    output = Activation('softmax')(logits)\n",
        "\n",
        "    # Create and compile model\n",
        "    model = Model(inputs=input_seq, outputs=output)\n",
        "    model.compile(loss=sparse_categorical_crossentropy,\n",
        "                  optimizer=Adam(learning_rate),\n",
        "                  metrics=['accuracy'])\n",
        "\n",
        "    return model\n",
        "\n",
        "tmp_x = pad(preproc_english_sentences, max_french_sequence_length)\n",
        "tmp_x = tmp_x.reshape((-1, preproc_french_sentences.shape[-2], 1))\n",
        "print(tmp_x.shape[1:])"
      ],
      "metadata": {
        "colab": {
          "base_uri": "https://localhost:8080/"
        },
        "id": "a514PBk5Jd_o",
        "outputId": "7ebc3cab-272c-4206-814d-fc788c07783d"
      },
      "id": "a514PBk5Jd_o",
      "execution_count": 31,
      "outputs": [
        {
          "output_type": "stream",
          "name": "stdout",
          "text": [
            "(21, 1)\n"
          ]
        }
      ]
    },
    {
      "cell_type": "markdown",
      "source": [
        "# **2-layer GRU: Training**"
      ],
      "metadata": {
        "id": "RtS_IL0uKqd8"
      },
      "id": "RtS_IL0uKqd8"
    },
    {
      "cell_type": "code",
      "source": [
        "# Train the neural network\n",
        "stacked_gru = stacked_gru_modell(tmp_x.shape,max_french_sequence_length,english_vocab_size,french_vocab_size)\n",
        "\n",
        "# Display the model architecture\n",
        "stacked_gru.summary()\n",
        "\n",
        "# Train the model\n",
        "stacked_gru.fit(tmp_x, preproc_french_sentences, batch_size=16, epochs=10, validation_split=0.2)"
      ],
      "metadata": {
        "colab": {
          "base_uri": "https://localhost:8080/",
          "height": 693
        },
        "id": "TMQkO4LqKwG-",
        "outputId": "e8f816dc-dd35-4a1c-e0eb-122bd0413786"
      },
      "id": "TMQkO4LqKwG-",
      "execution_count": 28,
      "outputs": [
        {
          "data": {
            "text/html": [
              "<pre style=\"white-space:pre;overflow-x:auto;line-height:normal;font-family:Menlo,'DejaVu Sans Mono',consolas,'Courier New',monospace\"><span style=\"font-weight: bold\">Model: \"functional_4\"</span>\n",
              "</pre>\n"
            ],
            "text/plain": [
              "\u001b[1mModel: \"functional_4\"\u001b[0m\n"
            ]
          },
          "metadata": {},
          "output_type": "display_data"
        },
        {
          "data": {
            "text/html": [
              "<pre style=\"white-space:pre;overflow-x:auto;line-height:normal;font-family:Menlo,'DejaVu Sans Mono',consolas,'Courier New',monospace\">┏━━━━━━━━━━━━━━━━━━━━━━━━━━━━━━━━━━━━━━┳━━━━━━━━━━━━━━━━━━━━━━━━━━━━━┳━━━━━━━━━━━━━━━━━┓\n",
              "┃<span style=\"font-weight: bold\"> Layer (type)                         </span>┃<span style=\"font-weight: bold\"> Output Shape                </span>┃<span style=\"font-weight: bold\">         Param # </span>┃\n",
              "┡━━━━━━━━━━━━━━━━━━━━━━━━━━━━━━━━━━━━━━╇━━━━━━━━━━━━━━━━━━━━━━━━━━━━━╇━━━━━━━━━━━━━━━━━┩\n",
              "│ input_layer_4 (<span style=\"color: #0087ff; text-decoration-color: #0087ff\">InputLayer</span>)           │ (<span style=\"color: #00d7ff; text-decoration-color: #00d7ff\">None</span>, <span style=\"color: #00af00; text-decoration-color: #00af00\">21</span>, <span style=\"color: #00af00; text-decoration-color: #00af00\">1</span>)               │               <span style=\"color: #00af00; text-decoration-color: #00af00\">0</span> │\n",
              "├──────────────────────────────────────┼─────────────────────────────┼─────────────────┤\n",
              "│ gru_1 (<span style=\"color: #0087ff; text-decoration-color: #0087ff\">GRU</span>)                          │ (<span style=\"color: #00d7ff; text-decoration-color: #00d7ff\">None</span>, <span style=\"color: #00af00; text-decoration-color: #00af00\">21</span>, <span style=\"color: #00af00; text-decoration-color: #00af00\">128</span>)             │          <span style=\"color: #00af00; text-decoration-color: #00af00\">50,304</span> │\n",
              "├──────────────────────────────────────┼─────────────────────────────┼─────────────────┤\n",
              "│ gru_2 (<span style=\"color: #0087ff; text-decoration-color: #0087ff\">GRU</span>)                          │ (<span style=\"color: #00d7ff; text-decoration-color: #00d7ff\">None</span>, <span style=\"color: #00af00; text-decoration-color: #00af00\">21</span>, <span style=\"color: #00af00; text-decoration-color: #00af00\">128</span>)             │          <span style=\"color: #00af00; text-decoration-color: #00af00\">99,072</span> │\n",
              "├──────────────────────────────────────┼─────────────────────────────┼─────────────────┤\n",
              "│ time_distributed_4 (<span style=\"color: #0087ff; text-decoration-color: #0087ff\">TimeDistributed</span>) │ (<span style=\"color: #00d7ff; text-decoration-color: #00d7ff\">None</span>, <span style=\"color: #00af00; text-decoration-color: #00af00\">21</span>, <span style=\"color: #00af00; text-decoration-color: #00af00\">345</span>)             │          <span style=\"color: #00af00; text-decoration-color: #00af00\">44,505</span> │\n",
              "├──────────────────────────────────────┼─────────────────────────────┼─────────────────┤\n",
              "│ activation_4 (<span style=\"color: #0087ff; text-decoration-color: #0087ff\">Activation</span>)            │ (<span style=\"color: #00d7ff; text-decoration-color: #00d7ff\">None</span>, <span style=\"color: #00af00; text-decoration-color: #00af00\">21</span>, <span style=\"color: #00af00; text-decoration-color: #00af00\">345</span>)             │               <span style=\"color: #00af00; text-decoration-color: #00af00\">0</span> │\n",
              "└──────────────────────────────────────┴─────────────────────────────┴─────────────────┘\n",
              "</pre>\n"
            ],
            "text/plain": [
              "┏━━━━━━━━━━━━━━━━━━━━━━━━━━━━━━━━━━━━━━┳━━━━━━━━━━━━━━━━━━━━━━━━━━━━━┳━━━━━━━━━━━━━━━━━┓\n",
              "┃\u001b[1m \u001b[0m\u001b[1mLayer (type)                        \u001b[0m\u001b[1m \u001b[0m┃\u001b[1m \u001b[0m\u001b[1mOutput Shape               \u001b[0m\u001b[1m \u001b[0m┃\u001b[1m \u001b[0m\u001b[1m        Param #\u001b[0m\u001b[1m \u001b[0m┃\n",
              "┡━━━━━━━━━━━━━━━━━━━━━━━━━━━━━━━━━━━━━━╇━━━━━━━━━━━━━━━━━━━━━━━━━━━━━╇━━━━━━━━━━━━━━━━━┩\n",
              "│ input_layer_4 (\u001b[38;5;33mInputLayer\u001b[0m)           │ (\u001b[38;5;45mNone\u001b[0m, \u001b[38;5;34m21\u001b[0m, \u001b[38;5;34m1\u001b[0m)               │               \u001b[38;5;34m0\u001b[0m │\n",
              "├──────────────────────────────────────┼─────────────────────────────┼─────────────────┤\n",
              "│ gru_1 (\u001b[38;5;33mGRU\u001b[0m)                          │ (\u001b[38;5;45mNone\u001b[0m, \u001b[38;5;34m21\u001b[0m, \u001b[38;5;34m128\u001b[0m)             │          \u001b[38;5;34m50,304\u001b[0m │\n",
              "├──────────────────────────────────────┼─────────────────────────────┼─────────────────┤\n",
              "│ gru_2 (\u001b[38;5;33mGRU\u001b[0m)                          │ (\u001b[38;5;45mNone\u001b[0m, \u001b[38;5;34m21\u001b[0m, \u001b[38;5;34m128\u001b[0m)             │          \u001b[38;5;34m99,072\u001b[0m │\n",
              "├──────────────────────────────────────┼─────────────────────────────┼─────────────────┤\n",
              "│ time_distributed_4 (\u001b[38;5;33mTimeDistributed\u001b[0m) │ (\u001b[38;5;45mNone\u001b[0m, \u001b[38;5;34m21\u001b[0m, \u001b[38;5;34m345\u001b[0m)             │          \u001b[38;5;34m44,505\u001b[0m │\n",
              "├──────────────────────────────────────┼─────────────────────────────┼─────────────────┤\n",
              "│ activation_4 (\u001b[38;5;33mActivation\u001b[0m)            │ (\u001b[38;5;45mNone\u001b[0m, \u001b[38;5;34m21\u001b[0m, \u001b[38;5;34m345\u001b[0m)             │               \u001b[38;5;34m0\u001b[0m │\n",
              "└──────────────────────────────────────┴─────────────────────────────┴─────────────────┘\n"
            ]
          },
          "metadata": {},
          "output_type": "display_data"
        },
        {
          "data": {
            "text/html": [
              "<pre style=\"white-space:pre;overflow-x:auto;line-height:normal;font-family:Menlo,'DejaVu Sans Mono',consolas,'Courier New',monospace\"><span style=\"font-weight: bold\"> Total params: </span><span style=\"color: #00af00; text-decoration-color: #00af00\">193,881</span> (757.35 KB)\n",
              "</pre>\n"
            ],
            "text/plain": [
              "\u001b[1m Total params: \u001b[0m\u001b[38;5;34m193,881\u001b[0m (757.35 KB)\n"
            ]
          },
          "metadata": {},
          "output_type": "display_data"
        },
        {
          "data": {
            "text/html": [
              "<pre style=\"white-space:pre;overflow-x:auto;line-height:normal;font-family:Menlo,'DejaVu Sans Mono',consolas,'Courier New',monospace\"><span style=\"font-weight: bold\"> Trainable params: </span><span style=\"color: #00af00; text-decoration-color: #00af00\">193,881</span> (757.35 KB)\n",
              "</pre>\n"
            ],
            "text/plain": [
              "\u001b[1m Trainable params: \u001b[0m\u001b[38;5;34m193,881\u001b[0m (757.35 KB)\n"
            ]
          },
          "metadata": {},
          "output_type": "display_data"
        },
        {
          "data": {
            "text/html": [
              "<pre style=\"white-space:pre;overflow-x:auto;line-height:normal;font-family:Menlo,'DejaVu Sans Mono',consolas,'Courier New',monospace\"><span style=\"font-weight: bold\"> Non-trainable params: </span><span style=\"color: #00af00; text-decoration-color: #00af00\">0</span> (0.00 B)\n",
              "</pre>\n"
            ],
            "text/plain": [
              "\u001b[1m Non-trainable params: \u001b[0m\u001b[38;5;34m0\u001b[0m (0.00 B)\n"
            ]
          },
          "metadata": {},
          "output_type": "display_data"
        },
        {
          "output_type": "stream",
          "name": "stdout",
          "text": [
            "Epoch 1/10\n",
            "\u001b[1m6893/6893\u001b[0m \u001b[32m━━━━━━━━━━━━━━━━━━━━\u001b[0m\u001b[37m\u001b[0m \u001b[1m310s\u001b[0m 44ms/step - accuracy: 0.5142 - loss: 2.1152 - val_accuracy: 0.5409 - val_loss: 1.8380\n",
            "Epoch 2/10\n",
            "\u001b[1m6893/6893\u001b[0m \u001b[32m━━━━━━━━━━━━━━━━━━━━\u001b[0m\u001b[37m\u001b[0m \u001b[1m323s\u001b[0m 45ms/step - accuracy: 0.5404 - loss: 1.8362 - val_accuracy: 0.5435 - val_loss: 1.8234\n",
            "Epoch 3/10\n",
            "\u001b[1m6893/6893\u001b[0m \u001b[32m━━━━━━━━━━━━━━━━━━━━\u001b[0m\u001b[37m\u001b[0m \u001b[1m320s\u001b[0m 44ms/step - accuracy: 0.5407 - loss: 1.8240 - val_accuracy: 0.5446 - val_loss: 1.8105\n",
            "Epoch 4/10\n",
            "\u001b[1m6893/6893\u001b[0m \u001b[32m━━━━━━━━━━━━━━━━━━━━\u001b[0m\u001b[37m\u001b[0m \u001b[1m299s\u001b[0m 41ms/step - accuracy: 0.5413 - loss: 1.8187 - val_accuracy: 0.5449 - val_loss: 1.8058\n",
            "Epoch 5/10\n",
            "\u001b[1m6893/6893\u001b[0m \u001b[32m━━━━━━━━━━━━━━━━━━━━\u001b[0m\u001b[37m\u001b[0m \u001b[1m341s\u001b[0m 44ms/step - accuracy: 0.5425 - loss: 1.8139 - val_accuracy: 0.5449 - val_loss: 1.8060\n",
            "Epoch 6/10\n",
            "\u001b[1m6893/6893\u001b[0m \u001b[32m━━━━━━━━━━━━━━━━━━━━\u001b[0m\u001b[37m\u001b[0m \u001b[1m319s\u001b[0m 43ms/step - accuracy: 0.5434 - loss: 1.8067 - val_accuracy: 0.5454 - val_loss: 1.7988\n",
            "Epoch 7/10\n",
            "\u001b[1m6893/6893\u001b[0m \u001b[32m━━━━━━━━━━━━━━━━━━━━\u001b[0m\u001b[37m\u001b[0m \u001b[1m282s\u001b[0m 41ms/step - accuracy: 0.5437 - loss: 1.8028 - val_accuracy: 0.5420 - val_loss: 1.8030\n",
            "Epoch 8/10\n",
            "\u001b[1m6893/6893\u001b[0m \u001b[32m━━━━━━━━━━━━━━━━━━━━\u001b[0m\u001b[37m\u001b[0m \u001b[1m341s\u001b[0m 44ms/step - accuracy: 0.5438 - loss: 1.8019 - val_accuracy: 0.5456 - val_loss: 1.7955\n",
            "Epoch 9/10\n",
            "\u001b[1m6893/6893\u001b[0m \u001b[32m━━━━━━━━━━━━━━━━━━━━\u001b[0m\u001b[37m\u001b[0m \u001b[1m299s\u001b[0m 43ms/step - accuracy: 0.5437 - loss: 1.8007 - val_accuracy: 0.5461 - val_loss: 1.7899\n",
            "Epoch 10/10\n",
            "\u001b[1m6893/6893\u001b[0m \u001b[32m━━━━━━━━━━━━━━━━━━━━\u001b[0m\u001b[37m\u001b[0m \u001b[1m322s\u001b[0m 43ms/step - accuracy: 0.5438 - loss: 1.8016 - val_accuracy: 0.5457 - val_loss: 1.7921\n"
          ]
        },
        {
          "output_type": "execute_result",
          "data": {
            "text/plain": [
              "<keras.src.callbacks.history.History at 0x7b35c7df4250>"
            ]
          },
          "metadata": {},
          "execution_count": 28
        }
      ]
    },
    {
      "cell_type": "markdown",
      "source": [
        "# **Stacked 2-layer GRU: English to French Translation**"
      ],
      "metadata": {
        "id": "CIi5aLcZTLae"
      },
      "id": "CIi5aLcZTLae"
    },
    {
      "cell_type": "code",
      "source": [
        "import numpy as np\n",
        "from keras.preprocessing.sequence import pad_sequences as pad\n",
        "\n",
        "# reverse tokenizer for English and French\n",
        "reverse_french_tokenizer = {index: word for word, index in french_tokenizer.word_index.items()}\n",
        "reverse_french_tokenizer[0] = '<PAD>'\n",
        "\n",
        "reverse_english_tokenizer = {index: word for word, index in english_tokenizer.word_index.items()}\n",
        "reverse_english_tokenizer[0] = '<PAD>'\n",
        "\n",
        "# 10 english input\n",
        "sample_inputs = preproc_english_sentences[:10]\n",
        "\n",
        "# Pad and reshape inputs, same as training\n",
        "sample_inputs = pad(sample_inputs, max_french_sequence_length)\n",
        "sample_inputs = sample_inputs.reshape((-1, max_french_sequence_length, 1))\n",
        "\n",
        "# predict French translations using the stacked 2-layer GRU model\n",
        "predictions = stacked_gru.predict(sample_inputs)\n",
        "predicted_token_ids = predictions.argmax(axis=-1)\n",
        "\n",
        "# helper function to decode token sequences into readable sentences\n",
        "def decode_tokens(token_ids, tokenizer_dict):\n",
        "    return ' '.join([tokenizer_dict.get(token, '') for token in token_ids if token != 0])\n",
        "\n",
        "# predict 10 english to french translations\n",
        "for i in range(10):\n",
        "    original_eng_tokens = preproc_english_sentences[i]\n",
        "    english_sentence = decode_tokens(original_eng_tokens, reverse_english_tokenizer)\n",
        "    french_sentence = decode_tokens(predicted_token_ids[i], reverse_french_tokenizer)\n",
        "\n",
        "    print(f\"English {i+1}: {english_sentence}\")\n",
        "    print(f\"French {i+1}: {french_sentence}\\n\")"
      ],
      "metadata": {
        "colab": {
          "base_uri": "https://localhost:8080/"
        },
        "id": "98ZITva9TYLV",
        "outputId": "a3708724-fd2a-4ebf-aefe-38abb73a843b"
      },
      "id": "98ZITva9TYLV",
      "execution_count": 29,
      "outputs": [
        {
          "output_type": "stream",
          "name": "stdout",
          "text": [
            "\u001b[1m1/1\u001b[0m \u001b[32m━━━━━━━━━━━━━━━━━━━━\u001b[0m\u001b[37m\u001b[0m \u001b[1m1s\u001b[0m 914ms/step\n",
            "English 1: new jersey is sometimes quiet during autumn and it is snowy in april\n",
            "French 1: la est est est en en mois et il est jamais est en en en\n",
            "\n",
            "English 2: the united states is usually chilly during july and it is usually freezing in november\n",
            "French 2: la est est est en en en mois et il est jamais est en\n",
            "\n",
            "English 3: california is usually quiet during march and it is usually hot in june\n",
            "French 3: la est est est en en et il est jamais en en en\n",
            "\n",
            "English 4: the united states is sometimes mild during june and it is cold in september\n",
            "French 4: la est est est en en en mois et il est jamais est en\n",
            "\n",
            "English 5: your least liked fruit is the grape but my least liked is the apple\n",
            "French 5: la est est est en en mais son moins aimé est la\n",
            "\n",
            "English 6: his favorite fruit is the orange but my favorite is the grape\n",
            "French 6: la est est est en en mais son préféré est la\n",
            "\n",
            "English 7: paris is relaxing during december but it is usually chilly in july\n",
            "French 7: la est est est en en et il il est en en\n",
            "\n",
            "English 8: new jersey is busy during spring and it is never hot in march\n",
            "French 8: la est est est en en mois et il il est en\n",
            "\n",
            "English 9: our least liked fruit is the lemon but my least liked is the grape\n",
            "French 9: la est est est en en mais mais son moins aimé est la\n",
            "\n",
            "English 10: the united states is sometimes busy during january and it is sometimes warm in november\n",
            "French 10: la est est est en en en mois et il est jamais est en en\n",
            "\n"
          ]
        }
      ]
    }
  ],
  "metadata": {
    "kernelspec": {
      "display_name": "Python 3 (ipykernel)",
      "language": "python",
      "name": "python3"
    },
    "language_info": {
      "codemirror_mode": {
        "name": "ipython",
        "version": 3
      },
      "file_extension": ".py",
      "mimetype": "text/x-python",
      "name": "python",
      "nbconvert_exporter": "python",
      "pygments_lexer": "ipython3",
      "version": "3.12.6"
    },
    "colab": {
      "provenance": [],
      "include_colab_link": true
    }
  },
  "nbformat": 4,
  "nbformat_minor": 5
}